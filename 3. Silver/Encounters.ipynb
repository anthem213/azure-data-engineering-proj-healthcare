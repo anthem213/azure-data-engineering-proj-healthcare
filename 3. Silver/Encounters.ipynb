{
 "cells": [
  {
   "cell_type": "code",
   "execution_count": 0,
   "metadata": {
    "application/vnd.databricks.v1+cell": {
     "cellMetadata": {},
     "inputWidgets": {},
     "nuid": "8d26f7dc-246b-4202-a3b5-a933d81d486c",
     "showTitle": false,
     "tableResultSettingsMap": {},
     "title": ""
    }
   },
   "outputs": [],
   "source": [
    "\n",
    " %sql\n",
    " -- Create temporary views for the parquet files\n",
    " CREATE OR REPLACE TEMP VIEW hosa_encounters\n",
    " USING parquet\n",
    " OPTIONS (\n",
    "   path \"dbfs:/mnt/bronze/hosa/encounters\"\n",
    " );\n",
    "\n",
    " CREATE OR REPLACE TEMP VIEW hosb_encounters\n",
    " USING parquet\n",
    " OPTIONS (\n",
    "   path \"dbfs:/mnt/bronze/hosb/encounters\"\n",
    " );\n",
    "\n",
    " -- Union the two views\n",
    " CREATE OR REPLACE TEMP VIEW encounters AS\n",
    " SELECT * FROM hosa_encounters\n",
    " UNION ALL\n",
    " SELECT * FROM hosb_encounters;\n",
    "\n",
    " -- Display the merged data\n",
    " SELECT * FROM encounters;\n",
    "\n",
    "\n",
    "\n"
   ]
  },
  {
   "cell_type": "code",
   "execution_count": 0,
   "metadata": {
    "application/vnd.databricks.v1+cell": {
     "cellMetadata": {},
     "inputWidgets": {},
     "nuid": "e55b3a33-8d27-45f2-8690-d83bc6866df0",
     "showTitle": false,
     "tableResultSettingsMap": {},
     "title": ""
    }
   },
   "outputs": [],
   "source": [
    "%sql\n",
    "CREATE OR REPLACE TEMP VIEW quality_checks AS\n",
    "SELECT\n",
    "  concat(EncounterID, '-', datasource) as EncounterID,\n",
    "  EncounterID SRC_EncounterID,\n",
    "  PatientID,\n",
    "  EncounterDate,\n",
    "  EncounterType,\n",
    "  ProviderID,\n",
    "  DepartmentID,\n",
    "  ProcedureCode,\n",
    "  InsertedDate as SRC_InsertedDate,\n",
    "  ModifiedDate as SRC_ModifiedDate,\n",
    "  datasource,\n",
    "  CASE\n",
    "    WHEN\n",
    "      EncounterID IS NULL\n",
    "      OR PatientID IS NULL\n",
    "    THEN\n",
    "      TRUE\n",
    "    ELSE FALSE\n",
    "  END AS is_quarantined\n",
    "FROM\n",
    "  encounters"
   ]
  },
  {
   "cell_type": "code",
   "execution_count": 0,
   "metadata": {
    "application/vnd.databricks.v1+cell": {
     "cellMetadata": {},
     "inputWidgets": {},
     "nuid": "5a5fcfd4-14e8-4e26-90b8-938be9a11aba",
     "showTitle": false,
     "tableResultSettingsMap": {},
     "title": ""
    }
   },
   "outputs": [],
   "source": [
    " %sql\n",
    " select * from quality_checks\n",
    " where datasource='hos-b'"
   ]
  },
  {
   "cell_type": "code",
   "execution_count": 0,
   "metadata": {
    "application/vnd.databricks.v1+cell": {
     "cellMetadata": {},
     "inputWidgets": {},
     "nuid": "0e750f69-9034-4397-889d-76e0d21e14cb",
     "showTitle": false,
     "tableResultSettingsMap": {},
     "title": ""
    }
   },
   "outputs": [],
   "source": [
    "%sql\n",
    "CREATE TABLE IF NOT EXISTS silver.encounters (\n",
    "  EncounterID string,\n",
    "  SRC_EncounterID string,\n",
    "  PatientID string,\n",
    "  EncounterDate date,\n",
    "  EncounterType string,\n",
    "  ProviderID string,\n",
    "  DepartmentID string,\n",
    "  ProcedureCode integer,\n",
    "  SRC_InsertedDate date,\n",
    "  SRC_ModifiedDate date,\n",
    "  datasource string,\n",
    "  is_quarantined boolean,\n",
    "  audit_insertdate timestamp,\n",
    "  audit_modifieddate timestamp,\n",
    "  is_current boolean\n",
    ") USING DELTA;"
   ]
  },
  {
   "cell_type": "code",
   "execution_count": 0,
   "metadata": {
    "application/vnd.databricks.v1+cell": {
     "cellMetadata": {},
     "inputWidgets": {},
     "nuid": "39ad0c1b-383b-4fe2-853d-f2df665f8956",
     "showTitle": false,
     "tableResultSettingsMap": {},
     "title": ""
    }
   },
   "outputs": [],
   "source": [
    "%sql\n",
    "-- Update old record to implement SCD Type 2\n",
    "MERGE INTO\n",
    "  silver.encounters AS target\n",
    "USING\n",
    "  quality_checks AS source\n",
    "ON\n",
    "  target.EncounterID = source.EncounterID\n",
    "  AND target.is_current = true\n",
    "WHEN MATCHED AND\n",
    "  (\n",
    "    target.SRC_EncounterID != source.SRC_EncounterID\n",
    "    OR target.PatientID != source.PatientID\n",
    "    OR target.EncounterDate != source.EncounterDate\n",
    "    OR target.EncounterType != source.EncounterType\n",
    "    OR target.ProviderID != source.ProviderID\n",
    "    OR target.DepartmentID != source.DepartmentID\n",
    "    OR target.ProcedureCode != source.ProcedureCode\n",
    "    OR target.SRC_InsertedDate != source.SRC_InsertedDate\n",
    "    OR target.SRC_ModifiedDate != source.SRC_ModifiedDate\n",
    "    OR target.datasource != source.datasource\n",
    "    OR target.is_quarantined != source.is_quarantined\n",
    "  )\n",
    "  THEN UPDATE SET target.is_current = false, target.audit_modifieddate = current_timestamp()"
   ]
  },
  {
   "cell_type": "code",
   "execution_count": 0,
   "metadata": {
    "application/vnd.databricks.v1+cell": {
     "cellMetadata": {},
     "inputWidgets": {},
     "nuid": "7cdf4457-e4ef-4574-a2e5-77e0ddb9a8ba",
     "showTitle": false,
     "tableResultSettingsMap": {},
     "title": ""
    }
   },
   "outputs": [],
   "source": [
    "%sql\n",
    "-- Insert new record to implement SCD Type 2\n",
    "MERGE INTO\n",
    "  silver.encounters AS target\n",
    "USING\n",
    "  quality_checks AS source\n",
    "ON\n",
    "  target.EncounterID = source.EncounterID\n",
    "  AND target.is_current = true\n",
    "WHEN NOT MATCHED THEN INSERT (\n",
    "    EncounterID,\n",
    "    SRC_EncounterID,\n",
    "    PatientID,\n",
    "    EncounterDate,\n",
    "    EncounterType,\n",
    "    ProviderID,\n",
    "    DepartmentID,\n",
    "    ProcedureCode,\n",
    "    SRC_InsertedDate,\n",
    "    SRC_ModifiedDate,\n",
    "    datasource,\n",
    "    is_quarantined,\n",
    "    audit_insertdate,\n",
    "    audit_modifieddate,\n",
    "    is_current\n",
    "  )\n",
    "  VALUES (\n",
    "    source.EncounterID,\n",
    "    source.SRC_EncounterID,\n",
    "    source.PatientID,\n",
    "    source.EncounterDate,\n",
    "    source.EncounterType,\n",
    "    source.ProviderID,\n",
    "    source.DepartmentID,\n",
    "    source.ProcedureCode,\n",
    "    source.SRC_InsertedDate,\n",
    "    source.SRC_ModifiedDate,\n",
    "    source.datasource,\n",
    "    source.is_quarantined,\n",
    "    current_timestamp(),\n",
    "    current_timestamp(),\n",
    "    true\n",
    "  );"
   ]
  },
  {
   "cell_type": "code",
   "execution_count": 0,
   "metadata": {
    "application/vnd.databricks.v1+cell": {
     "cellMetadata": {},
     "inputWidgets": {},
     "nuid": "bf77658d-0f2b-4281-9cdc-a1bb43e8cae0",
     "showTitle": false,
     "tableResultSettingsMap": {},
     "title": ""
    }
   },
   "outputs": [],
   "source": [
    "%sql\n",
    "select\n",
    "  SRC_EncounterID,\n",
    "  datasource,\n",
    "  count(patientid)\n",
    "from\n",
    "  silver.encounters\n",
    "group by\n",
    "  all\n",
    "order by\n",
    "  3 desc"
   ]
  }
 ],
 "metadata": {
  "application/vnd.databricks.v1+notebook": {
   "computePreferences": null,
   "dashboards": [],
   "environmentMetadata": {
    "base_environment": "",
    "environment_version": "2"
   },
   "inputWidgetPreferences": null,
   "language": "python",
   "notebookMetadata": {
    "pythonIndentUnit": 4
   },
   "notebookName": "Encounters",
   "widgets": {}
  },
  "language_info": {
   "name": "python"
  }
 },
 "nbformat": 4,
 "nbformat_minor": 0
}
