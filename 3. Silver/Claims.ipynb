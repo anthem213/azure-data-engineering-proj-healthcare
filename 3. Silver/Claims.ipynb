{
 "cells": [
  {
   "cell_type": "code",
   "execution_count": 0,
   "metadata": {
    "application/vnd.databricks.v1+cell": {
     "cellMetadata": {
      "byteLimit": 2048000,
      "rowLimit": 10000
     },
     "inputWidgets": {},
     "nuid": "da7487c0-f407-4169-9c09-f2f58b5ef1de",
     "showTitle": false,
     "tableResultSettingsMap": {},
     "title": ""
    },
    "jupyter": {
     "outputs_hidden": true
    }
   },
   "outputs": [],
   "source": [
    "from pyspark.sql import SparkSession, functions as f\n",
    "\n",
    "claims_df=spark.read.csv(\"/mnt/landing/claims/*.csv\",header=True)\n",
    "\n",
    "claims_df = claims_df.withColumn(\n",
    "    \"datasource\",\n",
    "    f.when(f.input_file_name().contains(\"hospital1\"), \"hosa\").when(f.input_file_name().contains(\"hospital2\"), \"hosb\")\n",
    "     .otherwise(None)\n",
    ")\n",
    "\n",
    "display(claims_df)\n",
    "\n"
   ]
  },
  {
   "cell_type": "code",
   "execution_count": 0,
   "metadata": {
    "application/vnd.databricks.v1+cell": {
     "cellMetadata": {},
     "inputWidgets": {},
     "nuid": "54f8a5e5-0aa5-400b-b0cd-49df6c6b4f95",
     "showTitle": false,
     "tableResultSettingsMap": {},
     "title": ""
    }
   },
   "outputs": [],
   "source": [
    "claims_df.write.format(\"parquet\").mode(\"overwrite\").save(\"/mnt/bronze/claims/\")"
   ]
  },
  {
   "cell_type": "code",
   "execution_count": 0,
   "metadata": {
    "application/vnd.databricks.v1+cell": {
     "cellMetadata": {},
     "inputWidgets": {},
     "nuid": "43632f76-2deb-44ec-b521-523b3db493ee",
     "showTitle": false,
     "tableResultSettingsMap": {},
     "title": ""
    }
   },
   "outputs": [],
   "source": [
    " claims_df.createOrReplaceTempView(\"claims\")"
   ]
  },
  {
   "cell_type": "code",
   "execution_count": 0,
   "metadata": {
    "application/vnd.databricks.v1+cell": {
     "cellMetadata": {},
     "inputWidgets": {},
     "nuid": "4e427858-83bb-47f2-b3eb-858c2c5c2c27",
     "showTitle": false,
     "tableResultSettingsMap": {},
     "title": ""
    }
   },
   "outputs": [],
   "source": [
    "%sql\n",
    "CREATE OR REPLACE TEMP VIEW quality_checks AS\n",
    "SELECT\n",
    "  CONCAT(ClaimID, '-', datasource) AS ClaimID,\n",
    "  ClaimID AS SRC_ClaimID,\n",
    "  TransactionID,\n",
    "  PatientID,\n",
    "  EncounterID,\n",
    "  ProviderID,\n",
    "  DeptID,\n",
    "  cast(ServiceDate as date) ServiceDate,\n",
    "  cast(ClaimDate as date) ClaimDate,\n",
    "  PayorID,\n",
    "  ClaimAmount,\n",
    "  PaidAmount,\n",
    "  ClaimStatus,\n",
    "  PayorType,\n",
    "  Deductible,\n",
    "  Coinsurance,\n",
    "  Copay,\n",
    "  cast(InsertDate as date) as SRC_InsertDate,\n",
    "  cast(ModifiedDate as date) as SRC_ModifiedDate,\n",
    "  datasource,\n",
    "  CASE\n",
    "    WHEN\n",
    "      ClaimID IS NULL\n",
    "      OR TransactionID IS NULL\n",
    "      OR PatientID IS NULL\n",
    "      or ServiceDate IS NULL\n",
    "    THEN\n",
    "      TRUE\n",
    "    ELSE FALSE\n",
    "  END AS is_quarantined\n",
    "FROM\n",
    "  claims"
   ]
  },
  {
   "cell_type": "code",
   "execution_count": 0,
   "metadata": {
    "application/vnd.databricks.v1+cell": {
     "cellMetadata": {},
     "inputWidgets": {},
     "nuid": "9693c86b-e62c-4907-ae7b-cd55f25a9416",
     "showTitle": false,
     "tableResultSettingsMap": {},
     "title": ""
    }
   },
   "outputs": [],
   "source": [
    "%sql\n",
    "select\n",
    "  *\n",
    "from\n",
    "  quality_checks"
   ]
  },
  {
   "cell_type": "code",
   "execution_count": 0,
   "metadata": {
    "application/vnd.databricks.v1+cell": {
     "cellMetadata": {},
     "inputWidgets": {},
     "nuid": "ee292835-a3a8-4198-b121-d5d8dcc1fe88",
     "showTitle": false,
     "tableResultSettingsMap": {},
     "title": ""
    }
   },
   "outputs": [],
   "source": [
    "%sql\n",
    "CREATE TABLE IF NOT EXISTS silver.claims (\n",
    "  ClaimID string,\n",
    "  SRC_ClaimID string,\n",
    "  TransactionID string,\n",
    "  PatientID string,\n",
    "  EncounterID string,\n",
    "  ProviderID string,\n",
    "  DeptID string,\n",
    "  ServiceDate date,\n",
    "  ClaimDate date,\n",
    "  PayorID string,\n",
    "  ClaimAmount string,\n",
    "  PaidAmount string,\n",
    "  ClaimStatus string,\n",
    "  PayorType string,\n",
    "  Deductible string,\n",
    "  Coinsurance string,\n",
    "  Copay string,\n",
    "  SRC_InsertDate date,\n",
    "  SRC_ModifiedDate date,\n",
    "  datasource string,\n",
    "  is_quarantined boolean,\n",
    "  audit_insertdate timestamp,\n",
    "  audit_modifieddate timestamp,\n",
    "  is_current boolean\n",
    ") USING DELTA;"
   ]
  },
  {
   "cell_type": "code",
   "execution_count": 0,
   "metadata": {
    "application/vnd.databricks.v1+cell": {
     "cellMetadata": {},
     "inputWidgets": {},
     "nuid": "cba63cbc-d51a-4705-89d1-a29f2d02ef90",
     "showTitle": false,
     "tableResultSettingsMap": {},
     "title": ""
    }
   },
   "outputs": [],
   "source": [
    "%sql\n",
    "-- Update old record to implement SCD Type 2\n",
    "MERGE INTO\n",
    "  silver.claims AS target\n",
    "USING\n",
    "  quality_checks AS source\n",
    "ON\n",
    "  target.ClaimID = source.ClaimID\n",
    "  AND target.is_current = true\n",
    "WHEN MATCHED AND\n",
    "  (\n",
    "    target.SRC_ClaimID != source.SRC_ClaimID\n",
    "    OR target.TransactionID != source.TransactionID\n",
    "    OR target.PatientID != source.PatientID\n",
    "    OR target.EncounterID != source.EncounterID\n",
    "    OR target.ProviderID != source.ProviderID\n",
    "    OR target.DeptID != source.DeptID\n",
    "    OR target.ServiceDate != source.ServiceDate\n",
    "    OR target.ClaimDate != source.ClaimDate\n",
    "    OR target.PayorID != source.PayorID\n",
    "    OR target.ClaimAmount != source.ClaimAmount\n",
    "    OR target.PaidAmount != source.PaidAmount\n",
    "    OR target.ClaimStatus != source.ClaimStatus\n",
    "    OR target.PayorType != source.PayorType\n",
    "    OR target.Deductible != source.Deductible\n",
    "    OR target.Coinsurance != source.Coinsurance\n",
    "    OR target.Copay != source.Copay\n",
    "    OR target.SRC_InsertDate != source.SRC_InsertDate\n",
    "    OR target.SRC_ModifiedDate != source.SRC_ModifiedDate\n",
    "    OR target.datasource != source.datasource\n",
    "    OR target.is_quarantined != source.is_quarantined\n",
    "  )\n",
    "  THEN UPDATE SET target.is_current = false, target.audit_modifieddate = current_timestamp()"
   ]
  },
  {
   "cell_type": "code",
   "execution_count": 0,
   "metadata": {
    "application/vnd.databricks.v1+cell": {
     "cellMetadata": {},
     "inputWidgets": {},
     "nuid": "e2574747-eae3-4573-996d-2dd45239e0a5",
     "showTitle": false,
     "tableResultSettingsMap": {},
     "title": ""
    }
   },
   "outputs": [],
   "source": [
    "%sql\n",
    "-- Insert new record to implement SCD Type 2\n",
    "MERGE INTO\n",
    "  silver.claims AS target\n",
    "USING\n",
    "  quality_checks AS source\n",
    "ON\n",
    "  target.ClaimID = source.ClaimID\n",
    "  AND target.is_current = true\n",
    "WHEN NOT MATCHED THEN INSERT (\n",
    "    ClaimID,\n",
    "    SRC_ClaimID,\n",
    "    TransactionID,\n",
    "    PatientID,\n",
    "    EncounterID,\n",
    "    ProviderID,\n",
    "    DeptID,\n",
    "    ServiceDate,\n",
    "    ClaimDate,\n",
    "    PayorID,\n",
    "    ClaimAmount,\n",
    "    PaidAmount,\n",
    "    ClaimStatus,\n",
    "    PayorType,\n",
    "    Deductible,\n",
    "    Coinsurance,\n",
    "    Copay,\n",
    "    SRC_InsertDate,\n",
    "    SRC_ModifiedDate,\n",
    "    datasource,\n",
    "    is_quarantined,\n",
    "    audit_insertdate,\n",
    "    audit_modifieddate,\n",
    "    is_current\n",
    "  )\n",
    "  VALUES (\n",
    "    source.ClaimID,\n",
    "    source.SRC_ClaimID,\n",
    "    source.TransactionID,\n",
    "    source.PatientID,\n",
    "    source.EncounterID,\n",
    "    source.ProviderID,\n",
    "    source.DeptID,\n",
    "    source.ServiceDate,\n",
    "    source.ClaimDate,\n",
    "    source.PayorID,\n",
    "    source.ClaimAmount,\n",
    "    source.PaidAmount,\n",
    "    source.ClaimStatus,\n",
    "    source.PayorType,\n",
    "    source.Deductible,\n",
    "    source.Coinsurance,\n",
    "    source.Copay,\n",
    "    source.SRC_InsertDate,\n",
    "    source.SRC_ModifiedDate,\n",
    "    source.datasource,\n",
    "    source.is_quarantined,\n",
    "    current_timestamp(),\n",
    "    current_timestamp(),\n",
    "    true\n",
    "  );"
   ]
  },
  {
   "cell_type": "code",
   "execution_count": 0,
   "metadata": {
    "application/vnd.databricks.v1+cell": {
     "cellMetadata": {},
     "inputWidgets": {},
     "nuid": "81ee8fb3-c8ed-445a-bda5-b47b44669206",
     "showTitle": false,
     "tableResultSettingsMap": {},
     "title": ""
    }
   },
   "outputs": [],
   "source": [
    "%sql\n",
    "select\n",
    "  *\n",
    "from\n",
    "  silver.claims"
   ]
  }
 ],
 "metadata": {
  "application/vnd.databricks.v1+notebook": {
   "computePreferences": null,
   "dashboards": [],
   "environmentMetadata": {
    "base_environment": "",
    "environment_version": "2"
   },
   "inputWidgetPreferences": null,
   "language": "python",
   "notebookMetadata": {
    "pythonIndentUnit": 4
   },
   "notebookName": "Claims",
   "widgets": {}
  },
  "language_info": {
   "name": "python"
  }
 },
 "nbformat": 4,
 "nbformat_minor": 0
}
