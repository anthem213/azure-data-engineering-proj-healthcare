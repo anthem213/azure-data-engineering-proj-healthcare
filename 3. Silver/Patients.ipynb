{
 "cells": [
  {
   "cell_type": "code",
   "execution_count": 0,
   "metadata": {
    "application/vnd.databricks.v1+cell": {
     "cellMetadata": {},
     "inputWidgets": {},
     "nuid": "433a4e70-833f-4e52-b202-abd3361eda1e",
     "showTitle": false,
     "tableResultSettingsMap": {},
     "title": ""
    }
   },
   "outputs": [],
   "source": [
    "# Databricks notebook source\n",
    "#Reading Hospital A patient data \n",
    "df_hosa=spark.read.parquet(\"/mnt/bronze/hosa/patients\")\n",
    "df_hosa.createOrReplaceTempView(\"patients_hosa\")\n",
    "\n",
    "#Reading Hospital B patient data \n",
    "df_hosb=spark.read.parquet(\"/mnt/bronze/hosb/patients\")\n",
    "df_hosb.createOrReplaceTempView(\"patients_hosb\")\n"
   ]
  },
  {
   "cell_type": "code",
   "execution_count": 0,
   "metadata": {
    "application/vnd.databricks.v1+cell": {
     "cellMetadata": {},
     "inputWidgets": {},
     "nuid": "2169750a-d990-45e2-9981-46ee6fe988e1",
     "showTitle": false,
     "tableResultSettingsMap": {},
     "title": ""
    }
   },
   "outputs": [],
   "source": [
    "%sql\n",
    "CREATE\n",
    "OR REPLACE TEMP VIEW cdm_patients AS\n",
    "SELECT\n",
    "  CONCAT(SRC_PatientID, '-', datasource) AS Patient_Key,   --reason behind concat to different the patient id from both table what if both table have same patientID\n",
    "  *\n",
    "FROM\n",
    "  (\n",
    "    SELECT\n",
    "      PatientID AS SRC_PatientID,\n",
    "      FirstName,\n",
    "      LastName,\n",
    "      MiddleName,\n",
    "      SSN,\n",
    "      PhoneNumber,\n",
    "      Gender,\n",
    "      DOB,\n",
    "      Address,\n",
    "      ModifiedDate,\n",
    "      datasource\n",
    "    FROM\n",
    "      patients_hosa\n",
    "    UNION ALL\n",
    "    SELECT\n",
    "      ID AS SRC_PatientID,   --here, we are giving the similar column name as table 1 to maintain the cdm\n",
    "      F_Name AS FirstName,\n",
    "      L_Name AS LastName,\n",
    "      M_Name ASMiddleName,\n",
    "      SSN,\n",
    "      PhoneNumber,\n",
    "      Gender,\n",
    "      DOB,\n",
    "      Address,\n",
    "      Updated_Date AS ModifiedDate,\n",
    "      datasource\n",
    "    FROM\n",
    "      patients_hosb\n",
    "  )"
   ]
  },
  {
   "cell_type": "code",
   "execution_count": 0,
   "metadata": {
    "application/vnd.databricks.v1+cell": {
     "cellMetadata": {},
     "inputWidgets": {},
     "nuid": "7cfa9dc2-c5eb-4561-996b-7359cb407d11",
     "showTitle": false,
     "tableResultSettingsMap": {},
     "title": ""
    }
   },
   "outputs": [],
   "source": [
    "%sql\n",
    "select * from cdm_patients"
   ]
  },
  {
   "cell_type": "code",
   "execution_count": 0,
   "metadata": {
    "application/vnd.databricks.v1+cell": {
     "cellMetadata": {},
     "inputWidgets": {},
     "nuid": "784bdc21-fe91-4ba9-ae64-8ad4f4917382",
     "showTitle": false,
     "tableResultSettingsMap": {},
     "title": ""
    }
   },
   "outputs": [],
   "source": [
    "%sql\n",
    "CREATE OR REPLACE TEMP VIEW quality_checks AS\n",
    "SELECT\n",
    "  Patient_Key,\n",
    "  SRC_PatientID,\n",
    "  FirstName,\n",
    "  LastName,\n",
    "  MiddleName,\n",
    "  SSN,\n",
    "  PhoneNumber,\n",
    "  Gender,\n",
    "  DOB,\n",
    "  Address,\n",
    "  ModifiedDate As SRC_ModifiedDate,\n",
    "  datasource,\n",
    "  CASE\n",
    "    WHEN\n",
    "      SRC_PatientID IS NULL\n",
    "      OR dob IS NULL\n",
    "      OR firstname IS NULL\n",
    "      or lower(firstname) = 'null'\n",
    "    THEN\n",
    "      TRUE\n",
    "    ELSE FALSE\n",
    "  END AS is_quarantined\n",
    "FROM\n",
    "  cdm_patients"
   ]
  },
  {
   "cell_type": "code",
   "execution_count": 0,
   "metadata": {
    "application/vnd.databricks.v1+cell": {
     "cellMetadata": {},
     "inputWidgets": {},
     "nuid": "fca86d2b-d089-428b-b86a-057715a894ca",
     "showTitle": false,
     "tableResultSettingsMap": {},
     "title": ""
    }
   },
   "outputs": [],
   "source": [
    "%sql\n",
    "select\n",
    "  *\n",
    "from\n",
    "  quality_checks\n",
    "order by\n",
    "  is_quarantined desc"
   ]
  },
  {
   "cell_type": "code",
   "execution_count": 0,
   "metadata": {
    "application/vnd.databricks.v1+cell": {
     "cellMetadata": {},
     "inputWidgets": {},
     "nuid": "90d4a58d-2782-4c61-961b-5d151c79aef3",
     "showTitle": false,
     "tableResultSettingsMap": {},
     "title": ""
    }
   },
   "outputs": [],
   "source": [
    "%sql\n",
    "CREATE TABLE IF NOT EXISTS silver.patients (\n",
    "  Patient_Key STRING,\n",
    "  SRC_PatientID STRING,\n",
    "  FirstName STRING,\n",
    "  LastName STRING,\n",
    "  MiddleName STRING,\n",
    "  SSN STRING,\n",
    "  PhoneNumber STRING,\n",
    "  Gender STRING,\n",
    "  DOB DATE,\n",
    "  Address STRING,\n",
    "  SRC_ModifiedDate TIMESTAMP,\n",
    "  datasource STRING,\n",
    "  is_quarantined BOOLEAN,\n",
    "  inserted_date TIMESTAMP,\n",
    "  modified_date TIMESTAMP,\n",
    "  is_current BOOLEAN\n",
    ") USING DELTA;"
   ]
  },
  {
   "cell_type": "code",
   "execution_count": 0,
   "metadata": {
    "application/vnd.databricks.v1+cell": {
     "cellMetadata": {},
     "inputWidgets": {},
     "nuid": "370ed672-a73e-4f5a-9ddf-5646218da8b7",
     "showTitle": false,
     "tableResultSettingsMap": {},
     "title": ""
    }
   },
   "outputs": [],
   "source": [
    "%sql\n",
    "-- Step 1: Mark existing records as historical (is_current = false) for patients that will be updated\n",
    "MERGE INTO\n",
    "  silver.patients AS target\n",
    "USING\n",
    "  quality_checks AS source\n",
    "ON\n",
    "  target.Patient_Key = source.Patient_Key\n",
    "  AND target.is_current = true\n",
    "WHEN MATCHED AND\n",
    "  (\n",
    "    target.SRC_PatientID <> source.SRC_PatientID\n",
    "    OR target.FirstName <> source.FirstName\n",
    "    OR target.LastName <> source.LastName\n",
    "    OR target.MiddleName <> source.MiddleName\n",
    "    OR target.SSN <> source.SSN\n",
    "    OR target.PhoneNumber <> source.PhoneNumber\n",
    "    OR target.Gender <> source.Gender\n",
    "    OR target.DOB <> source.DOB\n",
    "    OR target.Address <> source.Address\n",
    "    OR target.SRC_ModifiedDate <> source.SRC_ModifiedDate\n",
    "    OR target.datasource <> source.datasource\n",
    "    OR target.is_quarantined <> source.is_quarantined\n",
    "  )\n",
    "  THEN UPDATE SET target.is_current = false, target.modified_date = current_timestamp()\n",
    "WHEN NOT MATCHED THEN INSERT (\n",
    "    Patient_Key,\n",
    "    SRC_PatientID,\n",
    "    FirstName,\n",
    "    LastName,\n",
    "    MiddleName,\n",
    "    SSN,\n",
    "    PhoneNumber,\n",
    "    Gender,\n",
    "    DOB,\n",
    "    Address,\n",
    "    SRC_ModifiedDate,\n",
    "    datasource,\n",
    "    is_quarantined,\n",
    "    inserted_date,\n",
    "    modified_date,\n",
    "    is_current\n",
    "  )\n",
    "  VALUES (\n",
    "    source.Patient_Key,\n",
    "    source.SRC_PatientID,\n",
    "    source.FirstName,\n",
    "    source.LastName,\n",
    "    source.MiddleName,\n",
    "    source.SSN,\n",
    "    source.PhoneNumber,\n",
    "    source.Gender,\n",
    "    source.DOB,\n",
    "    source.Address,\n",
    "    source.SRC_ModifiedDate,\n",
    "    source.datasource,\n",
    "    source.is_quarantined,\n",
    "    current_timestamp(), -- Set inserted_date to current timestamp\n",
    "    current_timestamp(), -- Set modified_date to current timestamp\n",
    "    true -- Mark as current\n",
    "  );"
   ]
  },
  {
   "cell_type": "code",
   "execution_count": 0,
   "metadata": {
    "application/vnd.databricks.v1+cell": {
     "cellMetadata": {},
     "inputWidgets": {},
     "nuid": "dc345079-55dc-4f15-a154-593b8a762639",
     "showTitle": false,
     "tableResultSettingsMap": {},
     "title": ""
    }
   },
   "outputs": [],
   "source": [
    "%sql\n",
    "MERGE INTO silver.patients AS target USING quality_checks AS source ON target.Patient_Key = source.Patient_Key\n",
    "AND target.is_current = true -- Step 2: Insert new and updated records into the Delta table, marking them as current\n",
    "WHEN NOT MATCHED THEN\n",
    "INSERT\n",
    "  (\n",
    "    Patient_Key,\n",
    "    SRC_PatientID,\n",
    "    FirstName,\n",
    "    LastName,\n",
    "    MiddleName,\n",
    "    SSN,\n",
    "    PhoneNumber,\n",
    "    Gender,\n",
    "    DOB,\n",
    "    Address,\n",
    "    SRC_ModifiedDate,\n",
    "    datasource,\n",
    "    is_quarantined,\n",
    "    inserted_date,\n",
    "    modified_date,\n",
    "    is_current\n",
    "  )\n",
    "VALUES\n",
    "  (\n",
    "    source.Patient_Key,\n",
    "    source.SRC_PatientID,\n",
    "    source.FirstName,\n",
    "    source.LastName,\n",
    "    source.MiddleName,\n",
    "    source.SSN,\n",
    "    source.PhoneNumber,\n",
    "    source.Gender,\n",
    "    source.DOB,\n",
    "    source.Address,\n",
    "    source.SRC_ModifiedDate,\n",
    "    source.datasource,\n",
    "    source.is_quarantined,\n",
    "    current_timestamp(),\n",
    "    -- Set inserted_date to current timestamp\n",
    "    current_timestamp(),\n",
    "    -- Set modified_date to current timestamp\n",
    "    true -- Mark as current\n",
    "  );"
   ]
  },
  {
   "cell_type": "code",
   "execution_count": 0,
   "metadata": {
    "application/vnd.databricks.v1+cell": {
     "cellMetadata": {},
     "inputWidgets": {},
     "nuid": "be790714-4366-4edd-9da8-8093fec203b3",
     "showTitle": false,
     "tableResultSettingsMap": {},
     "title": ""
    }
   },
   "outputs": [],
   "source": [
    "%sql\n",
    "select\n",
    "  count(*),\n",
    "  Patient_Key\n",
    "from\n",
    "  silver.patients\n",
    "group by\n",
    "  patient_key\n",
    "order by\n",
    "  1 desc"
   ]
  }
 ],
 "metadata": {
  "application/vnd.databricks.v1+notebook": {
   "computePreferences": null,
   "dashboards": [],
   "environmentMetadata": {
    "base_environment": "",
    "environment_version": "2"
   },
   "inputWidgetPreferences": null,
   "language": "python",
   "notebookMetadata": {
    "pythonIndentUnit": 4
   },
   "notebookName": "Patients",
   "widgets": {}
  },
  "language_info": {
   "name": "python"
  }
 },
 "nbformat": 4,
 "nbformat_minor": 0
}
