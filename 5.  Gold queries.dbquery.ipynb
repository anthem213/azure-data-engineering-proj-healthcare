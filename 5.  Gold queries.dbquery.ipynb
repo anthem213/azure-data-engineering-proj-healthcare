{
 "cells": [
  {
   "cell_type": "code",
   "execution_count": 0,
   "metadata": {
    "application/vnd.databricks.v1+cell": {
     "cellMetadata": {},
     "inputWidgets": {},
     "nuid": "48505df1-fd13-4391-9351-552977233326",
     "showTitle": false,
     "tableResultSettingsMap": {},
     "title": ""
    }
   },
   "outputs": [],
   "source": [
    "--Total Charge Amount per provider by department\n",
    "select\n",
    "  concat(p.firstname, ' ', p.LastName) Provider_Name,\n",
    "  dd.Name Dept_Name,\n",
    "  sum(ft.Amount)\n",
    "from\n",
    "  gold.fact_transactions ft\n",
    "  left join gold.dim_provider p on p.ProviderID = ft.FK_ProviderID\n",
    "  left join gold.dim_department dd on dd.Dept_Id = p.DeptID\n",
    "group by\n",
    "  all \n",
    "  \n",
    "  \n",
    "--Total Charge Amount per provider by department for each month for year 2024\n",
    "select\n",
    "  concat(p.firstname, ' ', p.LastName) Provider_Name,\n",
    "  dd.Name Dept_Name,\n",
    "  date_format(servicedate, 'yyyyMM') YYYYMM,\n",
    "  sum(ft.Amount) Total_Charge_Amt,\n",
    "  sum(ft.paidamount) Total_Paid_Amt\n",
    "from\n",
    "  gold.fact_transactions ft\n",
    "  left join gold.dim_provider p on p.ProviderID = ft.FK_ProviderID\n",
    "  left join gold.dim_department dd on dd.Dept_Id = p.DeptID\n",
    "where\n",
    "  year(ft.ServiceDate) = 2024\n",
    "group by\n",
    "  all\n",
    "order by\n",
    "  1,\n",
    "  3"
   ]
  }
 ],
 "metadata": {
  "application/vnd.databricks.v1+notebook": {
   "computePreferences": null,
   "dashboards": [],
   "environmentMetadata": null,
   "inputWidgetPreferences": null,
   "language": "sql",
   "notebookMetadata": {
    "sqlQueryOptions": {
     "applyAutoLimit": true,
     "catalog": "healthcaredatabricksws",
     "schema": ""
    }
   },
   "notebookName": "5.  Gold queries.dbquery.ipynb",
   "widgets": {}
  },
  "language_info": {
   "name": "sql"
  }
 },
 "nbformat": 4,
 "nbformat_minor": 0
}
