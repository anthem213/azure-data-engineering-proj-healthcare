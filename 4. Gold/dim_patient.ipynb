{
 "cells": [
  {
   "cell_type": "code",
   "execution_count": 0,
   "metadata": {
    "application/vnd.databricks.v1+cell": {
     "cellMetadata": {},
     "inputWidgets": {},
     "nuid": "b14f9646-82d0-4118-b5b1-528c8ff4d370",
     "showTitle": false,
     "tableResultSettingsMap": {},
     "title": ""
    }
   },
   "outputs": [],
   "source": [
    "%sql\n",
    "CREATE TABLE IF NOT EXISTS gold.dim_patient (\n",
    "  patient_key STRING,\n",
    "  src_patientid STRING,\n",
    "  firstname STRING,\n",
    "  lastname STRING,\n",
    "  middlename STRING,\n",
    "  ssn STRING,\n",
    "  phonenumber STRING,\n",
    "  gender STRING,\n",
    "  dob DATE,\n",
    "  address STRING,\n",
    "  datasource STRING\n",
    ")"
   ]
  },
  {
   "cell_type": "code",
   "execution_count": 0,
   "metadata": {
    "application/vnd.databricks.v1+cell": {
     "cellMetadata": {},
     "inputWidgets": {},
     "nuid": "a5f06984-f14d-4f95-8659-a78895b021c9",
     "showTitle": false,
     "tableResultSettingsMap": {},
     "title": ""
    }
   },
   "outputs": [],
   "source": [
    " %sql \n",
    " truncate TABLE gold.dim_patient "
   ]
  },
  {
   "cell_type": "code",
   "execution_count": 0,
   "metadata": {
    "application/vnd.databricks.v1+cell": {
     "cellMetadata": {},
     "inputWidgets": {},
     "nuid": "fc783f16-e4c8-47cc-bc6e-61f53b1a1363",
     "showTitle": false,
     "tableResultSettingsMap": {},
     "title": ""
    }
   },
   "outputs": [],
   "source": [
    "%sql\n",
    "insert into\n",
    "  gold.dim_patient\n",
    "select\n",
    "  patient_key,\n",
    "  src_patientid,\n",
    "  firstname,\n",
    "  lastname,\n",
    "  middlename,\n",
    "  ssn,\n",
    "  phonenumber,\n",
    "  gender,\n",
    "  dob,\n",
    "  address,\n",
    "  datasource\n",
    "from\n",
    "  silver.patients\n",
    "where\n",
    "  is_current = true\n",
    "  and is_quarantined = false"
   ]
  }
 ],
 "metadata": {
  "application/vnd.databricks.v1+notebook": {
   "computePreferences": null,
   "dashboards": [],
   "environmentMetadata": {
    "base_environment": "",
    "environment_version": "2"
   },
   "inputWidgetPreferences": null,
   "language": "python",
   "notebookMetadata": {
    "pythonIndentUnit": 4
   },
   "notebookName": "dim_patient",
   "widgets": {}
  },
  "language_info": {
   "name": "python"
  }
 },
 "nbformat": 4,
 "nbformat_minor": 0
}
