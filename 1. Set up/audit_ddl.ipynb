{
 "cells": [
  {
   "cell_type": "code",
   "execution_count": 0,
   "metadata": {
    "application/vnd.databricks.v1+cell": {
     "cellMetadata": {
      "byteLimit": 2048000,
      "implicitDf": true,
      "rowLimit": 10000
     },
     "inputWidgets": {},
     "nuid": "42c926b3-707c-4851-b6a8-91619403caea",
     "showTitle": false,
     "tableResultSettingsMap": {},
     "title": ""
    }
   },
   "outputs": [],
   "source": [
    "%sql\n",
    "USE CATALOG tt_hc_adb_ws;"
   ]
  },
  {
   "cell_type": "code",
   "execution_count": 0,
   "metadata": {
    "application/vnd.databricks.v1+cell": {
     "cellMetadata": {
      "byteLimit": 2048000,
      "implicitDf": true,
      "rowLimit": 10000
     },
     "inputWidgets": {},
     "nuid": "ef997b0e-8ca7-4587-8bb1-f2dbd60d3636",
     "showTitle": false,
     "tableResultSettingsMap": {},
     "title": ""
    }
   },
   "outputs": [],
   "source": [
    "%sql\n",
    " CREATE SCHEMA IF NOT EXISTS tt_hc_adb_ws.audit;\n",
    "\n",
    " CREATE TABLE IF NOT EXISTS tt_hc_adb_ws.audit.load_logs (\n",
    "     data_source STRING,\n",
    "     tablename STRING,\n",
    "     numberofrowscopied INT, \n",
    "     watermarkcolumnname STRING,\n",
    "     loaddate TIMESTAMP\n",
    " );"
   ]
  },
  {
   "cell_type": "code",
   "execution_count": 0,
   "metadata": {
    "application/vnd.databricks.v1+cell": {
     "cellMetadata": {},
     "inputWidgets": {},
     "nuid": "611eb0d0-b2e6-4d8e-9f61-ebf02032592c",
     "showTitle": false,
     "tableResultSettingsMap": {},
     "title": ""
    }
   },
   "outputs": [],
   "source": [
    "%sql\n",
    "truncate table  tt_hc_adb_ws.audit.load_logs "
   ]
  },
  {
   "cell_type": "code",
   "execution_count": 0,
   "metadata": {
    "application/vnd.databricks.v1+cell": {
     "cellMetadata": {
      "byteLimit": 2048000,
      "implicitDf": true,
      "rowLimit": 10000
     },
     "inputWidgets": {},
     "nuid": "a7471c7e-5d70-4309-954c-e6ddf7259a42",
     "showTitle": false,
     "tableResultSettingsMap": {},
     "title": ""
    }
   },
   "outputs": [],
   "source": [
    "%sql\n",
    "select * from audit.load_logs"
   ]
  },
  {
   "cell_type": "code",
   "execution_count": 0,
   "metadata": {
    "application/vnd.databricks.v1+cell": {
     "cellMetadata": {
      "byteLimit": 2048000,
      "implicitDf": true,
      "rowLimit": 10000
     },
     "inputWidgets": {},
     "nuid": "00f6b0fc-bb6f-42e3-82e4-1cc0fd1632a6",
     "showTitle": false,
     "tableResultSettingsMap": {},
     "title": ""
    }
   },
   "outputs": [],
   "source": [
    "%sql\n",
    "\n",
    "INSERT INTO audit.load_logs (data_source, tablename, numberofrowscopied, watermarkcolumnname, loaddate)\n",
    "VALUES\n",
    "( 'hos-a', 'dbo.transactions', 10000, 'ModifiedDate', '2025-03-01T14:43:53.262+00:00'),\n",
    "( 'hos-b', 'dbo.transactions', 10000, 'ModifiedDate', '2025-03-01T14:49:29.715+00:00'),\n",
    "( 'hos-a', 'dbo.encounters', 10000, 'ModifiedDate', '2025-03-01T14:40:43.331+00:00'),\n",
    "( 'hos-b', 'dbo.encounters', 10000, 'ModifiedDate', '2025-03-01T14:46:51.979+00:00'),\n",
    "( 'hos-a', 'dbo.patients', 5000, 'ModifiedDate', '2025-03-01T14:42:25.848+00:00'),\n",
    "( 'hos-b', 'dbo.patients', 5000, 'Updated_Date', '2025-03-01T14:48:11.801+00:00'),\n",
    "( 'hos-a', 'dbo.departments', 20, 'ModifiedDate', '2025-03-01T14:43:35.609+00:00'),\n",
    "( 'hos-b', 'dbo.departments', 20, 'ModifiedDate', '2025-03-01T14:52:04.325+00:00'),\n",
    "( 'hos-a', 'dbo.providers', 25, 'ModifiedDate', '2025-03-01T14:44:40.709+00:00'),\n",
    "( 'hos-b', 'dbo.providers', 30, 'ModifiedDate', '2025-03-01T14:50:37.727+00:00');\n"
   ]
  }
 ],
 "metadata": {
  "application/vnd.databricks.v1+notebook": {
   "computePreferences": null,
   "dashboards": [],
   "environmentMetadata": {
    "base_environment": "",
    "environment_version": "2"
   },
   "inputWidgetPreferences": null,
   "language": "python",
   "notebookMetadata": {
    "mostRecentlyExecutedCommandWithImplicitDF": {
     "commandId": 3001990711497834,
     "dataframes": [
      "_sqldf"
     ]
    },
    "pythonIndentUnit": 4
   },
   "notebookName": "audit_ddl",
   "widgets": {}
  },
  "language_info": {
   "name": "python"
  }
 },
 "nbformat": 4,
 "nbformat_minor": 0
}
